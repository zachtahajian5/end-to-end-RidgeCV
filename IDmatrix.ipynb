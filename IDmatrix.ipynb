{
  "nbformat": 4,
  "nbformat_minor": 0,
  "metadata": {
    "colab": {
      "provenance": [],
      "authorship_tag": "ABX9TyNiAFGejbVpsBOnAPuF/6xj",
      "include_colab_link": true
    },
    "kernelspec": {
      "name": "python3",
      "display_name": "Python 3"
    },
    "language_info": {
      "name": "python"
    }
  },
  "cells": [
    {
      "cell_type": "markdown",
      "metadata": {
        "id": "view-in-github",
        "colab_type": "text"
      },
      "source": [
        "<a href=\"https://colab.research.google.com/github/zachtahajian5/end-to-end-RidgeCV/blob/main/IDmatrix.ipynb\" target=\"_parent\"><img src=\"https://colab.research.google.com/assets/colab-badge.svg\" alt=\"Open In Colab\"/></a>"
      ]
    },
    {
      "cell_type": "code",
      "execution_count": null,
      "metadata": {
        "colab": {
          "base_uri": "https://localhost:8080/"
        },
        "id": "i1TfQjjTH5gy",
        "outputId": "4919b375-0e2a-489b-b235-1c6753ccc5b3"
      },
      "outputs": [
        {
          "output_type": "stream",
          "name": "stdout",
          "text": [
            "[[ 1  2  3  4]\n",
            " [ 5  6  7  8]\n",
            " [ 9 10 11 12]]\n"
          ]
        }
      ],
      "source": [
        "import numpy as np\n",
        "import\n",
        "\n",
        "A = np.array(\n",
        "    [[191_100_100, 2, 3, 4],\n",
        "    [5, 6, 7, 8],\n",
        "    [9, 10, 11, 12]]\n",
        "     )\n",
        "print(A)"
      ]
    },
    {
      "cell_type": "code",
      "source": [
        "ID = np.eye(3)\n",
        "print(ID)"
      ],
      "metadata": {
        "colab": {
          "base_uri": "https://localhost:8080/"
        },
        "id": "WuMt61T-IBm7",
        "outputId": "73618269-8666-4915-94ee-1ae164886163"
      },
      "execution_count": null,
      "outputs": [
        {
          "output_type": "stream",
          "name": "stdout",
          "text": [
            "[[1. 0. 0.]\n",
            " [0. 1. 0.]\n",
            " [0. 0. 1.]]\n"
          ]
        }
      ]
    },
    {
      "cell_type": "code",
      "source": [
        "# prompt: create random generator object\n",
        "\n",
        "import numpy as np\n",
        "rng = np.random.default_rng(42)\n",
        "\n"
      ],
      "metadata": {
        "id": "BoLZmcfuIPoc"
      },
      "execution_count": null,
      "outputs": []
    },
    {
      "cell_type": "code",
      "source": [
        "# prompt: create a 3x2 array and a 9x3 array with random elements using the generator object\n",
        "\n",
        "array_3x2 = rng.random((3, 2))\n",
        "print(array_3x2)\n",
        "\n",
        "array_9x3 = rng.random((9, 3))\n",
        "\n",
        "\n"
      ],
      "metadata": {
        "colab": {
          "base_uri": "https://localhost:8080/"
        },
        "id": "6owfeUywKGmB",
        "outputId": "f1253ee2-79d8-4bb8-b202-5a5bc13b837e"
      },
      "execution_count": null,
      "outputs": [
        {
          "output_type": "stream",
          "name": "stdout",
          "text": [
            "[[0.77395605 0.43887844]\n",
            " [0.85859792 0.69736803]\n",
            " [0.09417735 0.97562235]]\n"
          ]
        }
      ]
    },
    {
      "cell_type": "code",
      "source": [
        "print(array_9x3)"
      ],
      "metadata": {
        "colab": {
          "base_uri": "https://localhost:8080/"
        },
        "id": "vQX3uM5pKhnA",
        "outputId": "cf7313dc-49c7-4792-d0c9-8117c6170da8"
      },
      "execution_count": null,
      "outputs": [
        {
          "output_type": "stream",
          "name": "stdout",
          "text": [
            "[[0.7611397  0.78606431 0.12811363]\n",
            " [0.45038594 0.37079802 0.92676499]\n",
            " [0.64386512 0.82276161 0.4434142 ]\n",
            " [0.22723872 0.55458479 0.06381726]\n",
            " [0.82763117 0.6316644  0.75808774]\n",
            " [0.35452597 0.97069802 0.89312112]\n",
            " [0.7783835  0.19463871 0.466721  ]\n",
            " [0.04380377 0.15428949 0.68304895]\n",
            " [0.74476216 0.96750973 0.32582536]]\n"
          ]
        }
      ]
    },
    {
      "cell_type": "code",
      "source": [
        "c = array_9x3 @ array_3x2\n",
        "print(c)"
      ],
      "metadata": {
        "colab": {
          "base_uri": "https://localhost:8080/"
        },
        "id": "MYiS1LCaKjtT",
        "outputId": "2e17a417-071f-4544-8c36-6b420837f259"
      },
      "execution_count": null,
      "outputs": [
        {
          "output_type": "stream",
          "name": "stdout",
          "text": [
            "[[1.27606726 1.00721444]\n",
            " [0.7542256  1.36042   ]\n",
            " [1.24650429 1.28895097]\n",
            " [0.65804827 0.54874142]\n",
            " [1.25429058 1.54333938]\n",
            " [1.1919386  1.7038765 ]\n",
            " [0.81350555 0.93269399]\n",
            " [0.23070257 0.79321891]\n",
            " [1.43780039 1.31945291]]\n"
          ]
        }
      ]
    },
    {
      "cell_type": "code",
      "source": [
        "# prompt: id matrix 4x4 and rng array with shape 4,2\n",
        "\n",
        "import numpy as np\n",
        "ID4x4 = np.eye(4)\n",
        "print(ID4x4)\n",
        "\n",
        "rng_array_4x2 = rng.random((4, 2))\n",
        "rng_array_4x2"
      ],
      "metadata": {
        "colab": {
          "base_uri": "https://localhost:8080/"
        },
        "id": "_kqNf1GJMftE",
        "outputId": "7cf705ca-7936-4c8f-9685-6f94d14b581a"
      },
      "execution_count": null,
      "outputs": [
        {
          "output_type": "stream",
          "name": "stdout",
          "text": [
            "[[1. 0. 0. 0.]\n",
            " [0. 1. 0. 0.]\n",
            " [0. 0. 1. 0.]\n",
            " [0. 0. 0. 1.]]\n"
          ]
        },
        {
          "output_type": "execute_result",
          "data": {
            "text/plain": [
              "array([[0.37045971, 0.46955581],\n",
              "       [0.18947136, 0.12992151],\n",
              "       [0.47570493, 0.22690935],\n",
              "       [0.66981399, 0.43715192]])"
            ]
          },
          "metadata": {},
          "execution_count": 69
        }
      ]
    },
    {
      "cell_type": "code",
      "source": [
        "c_1 = ID4x4 @ rng_array_4x2\n",
        "\n",
        "\n",
        "\n",
        "print(c_1)\n"
      ],
      "metadata": {
        "colab": {
          "base_uri": "https://localhost:8080/"
        },
        "id": "dFNsmbm9R4A1",
        "outputId": "b1181b16-28c7-453c-ba88-1cc233ab96b7"
      },
      "execution_count": null,
      "outputs": [
        {
          "output_type": "stream",
          "name": "stdout",
          "text": [
            "[[0.37045971 0.46955581]\n",
            " [0.18947136 0.12992151]\n",
            " [0.47570493 0.22690935]\n",
            " [0.66981399 0.43715192]]\n"
          ]
        }
      ]
    },
    {
      "cell_type": "code",
      "source": [
        "# prompt: array with shape 4,2\n",
        "\n",
        "rng_array_4x2 = rng.random((4, 2))\n",
        "rng_array_4x2"
      ],
      "metadata": {
        "colab": {
          "base_uri": "https://localhost:8080/"
        },
        "id": "vXzqIk6MSSMw",
        "outputId": "fc74286e-fec9-4653-d7e6-5e5f2854648f"
      },
      "execution_count": null,
      "outputs": [
        {
          "output_type": "execute_result",
          "data": {
            "text/plain": [
              "array([[0.8326782 , 0.7002651 ],\n",
              "       [0.31236664, 0.8322598 ],\n",
              "       [0.80476436, 0.38747838],\n",
              "       [0.2883281 , 0.6824955 ]])"
            ]
          },
          "metadata": {},
          "execution_count": 71
        }
      ]
    }
  ]
}